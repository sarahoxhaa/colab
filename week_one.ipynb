{
  "nbformat": 4,
  "nbformat_minor": 0,
  "metadata": {
    "colab": {
      "provenance": [],
      "authorship_tag": "ABX9TyNuhbw++j+fWKNVydueIRMy",
      "include_colab_link": true
    },
    "kernelspec": {
      "name": "python3",
      "display_name": "Python 3"
    },
    "language_info": {
      "name": "python"
    }
  },
  "cells": [
    {
      "cell_type": "markdown",
      "metadata": {
        "id": "view-in-github",
        "colab_type": "text"
      },
      "source": [
        "<a href=\"https://colab.research.google.com/github/sarahoxhaa/colab/blob/main/week_one.ipynb\" target=\"_parent\"><img src=\"https://colab.research.google.com/assets/colab-badge.svg\" alt=\"Open In Colab\"/></a>"
      ]
    },
    {
      "cell_type": "code",
      "execution_count": null,
      "metadata": {
        "id": "ikMqD7pI-hd4",
        "colab": {
          "base_uri": "https://localhost:8080/"
        },
        "outputId": "734102ab-390c-4e35-a14e-6e14409dfef9"
      },
      "outputs": [
        {
          "output_type": "stream",
          "name": "stdout",
          "text": [
            "{\"id\":\"fe11607fefa640b5835451440c7b0131\",\"text\":\"The only real person to ever to appear on a pez dispenser was Betsy Ross.\",\"source\":\"djtech.net\",\"source_url\":\"http://www.djtech.net/humor/useless_facts.htm\",\"language\":\"en\",\"permalink\":\"https://uselessfacts.jsph.pl/api/v2/facts/fe11607fefa640b5835451440c7b0131\"}\n",
            "\n"
          ]
        }
      ],
      "source": [
        "import requests\n",
        "\n",
        "response=requests.get('https://uselessfacts.jsph.pl/api/v2/facts/random?language=en')\n",
        "\n",
        "print(response.text)"
      ]
    },
    {
      "cell_type": "code",
      "source": [
        "params={\n",
        "    'language':'en'\n",
        "}\n",
        "\n",
        "response= requests.get('https://uselessfacts.jsph.pl/api/v2/facts/random', params=params)\n",
        "\n",
        "print(response.json().get('text'))"
      ],
      "metadata": {
        "colab": {
          "base_uri": "https://localhost:8080/"
        },
        "id": "mK12Z7oK4OH9",
        "outputId": "e99e58bd-6b1f-4669-eb65-b010586d1152"
      },
      "execution_count": null,
      "outputs": [
        {
          "output_type": "stream",
          "name": "stdout",
          "text": [
            "Average number of days a West German goes without washing his underwear: 7\n"
          ]
        }
      ]
    },
    {
      "cell_type": "code",
      "source": [
        "import requests\n",
        "\n",
        "params={\n",
        "    'zip code': '90210',\n",
        "    'appid': '89a7c12d5c66f231cac8eec4567171ae'\n",
        "}\n",
        "\n",
        "response=requests.get('http://api.openweathermap.org/geo/1.0/zip', params=params)\n",
        "data = response.json()\n",
        "print(data)\n"
      ],
      "metadata": {
        "colab": {
          "base_uri": "https://localhost:8080/"
        },
        "id": "M95thiKhDIdB",
        "outputId": "255b1077-487a-47e0-c42e-b9cb69d15b67"
      },
      "execution_count": null,
      "outputs": [
        {
          "output_type": "stream",
          "name": "stdout",
          "text": [
            "{'cod': 401, 'message': 'Invalid API key. Please see https://openweathermap.org/faq#error401 for more info.'}\n"
          ]
        }
      ]
    },
    {
      "cell_type": "code",
      "source": [
        "data_dictionary = {\n",
        "    'Caleb': 4,\n",
        "    'Jimmy': 6,\n",
        "    'Samantha': 12,\n",
        "    'Monica':20\n",
        "}\n",
        "\n",
        "for key, value in data_dictionary.items():\n",
        "  if key == 'Samantha':\n",
        "    print('we found '+ key)\n",
        "    break "
      ],
      "metadata": {
        "colab": {
          "base_uri": "https://localhost:8080/"
        },
        "id": "5rFYBo5wTzuy",
        "outputId": "767cdb3b-366b-4aa4-a432-b28f1e96f395"
      },
      "execution_count": null,
      "outputs": [
        {
          "output_type": "stream",
          "name": "stdout",
          "text": [
            "we found Samantha\n"
          ]
        }
      ]
    },
    {
      "cell_type": "code",
      "source": [
        "from random import randint\n",
        "\n",
        "\n",
        "print(f'from which number to wich number you want to guess?')\n",
        "low=int(input())\n",
        "high=int(input())\n",
        "correct = randint(low, high)\n",
        "# print(f'Guess from {low} till {high}')\n",
        "print(correct)\n",
        "\n",
        "while True:\n",
        "    guess=int(input())\n",
        "\n",
        "    if guess < correct:\n",
        "     print('go high')\n",
        "    elif guess > correct:\n",
        "      print('go low') \n",
        "    else:\n",
        "      print(\"we win\")\n",
        "      break\n",
        "      \n",
        "      \n",
        "      \n",
        "\n"
      ],
      "metadata": {
        "colab": {
          "base_uri": "https://localhost:8080/"
        },
        "id": "6K9CoPbBZOdJ",
        "outputId": "d1d44f18-3ad7-4d00-89e5-7117648f68af"
      },
      "execution_count": null,
      "outputs": [
        {
          "output_type": "stream",
          "name": "stdout",
          "text": [
            "from which number to wich number you want to guess?\n",
            "5\n",
            "9\n",
            "6\n",
            "2\n",
            "go high\n",
            "4\n",
            "go high\n",
            "6\n",
            "we win\n"
          ]
        }
      ]
    },
    {
      "cell_type": "code",
      "source": [
        "from random import randint\n",
        "\n",
        "correct = randint(0, 100)\n",
        "print(correct)\n",
        "\n",
        "while True:\n",
        "  guess = input()\n",
        "\n",
        "  if int(guess) == correct:\n",
        "    print('You will win')\n",
        "    break"
      ],
      "metadata": {
        "colab": {
          "base_uri": "https://localhost:8080/"
        },
        "id": "cgtUco9HcMtp",
        "outputId": "41208e05-c076-4480-e11d-05bafc9de2f4"
      },
      "execution_count": null,
      "outputs": [
        {
          "output_type": "stream",
          "name": "stdout",
          "text": [
            "69\n",
            "69\n",
            "You will win\n"
          ]
        }
      ]
    },
    {
      "cell_type": "code",
      "source": [
        "print('done')"
      ],
      "metadata": {
        "id": "9ShErc6xoH2p"
      },
      "execution_count": null,
      "outputs": []
    }
  ]
}